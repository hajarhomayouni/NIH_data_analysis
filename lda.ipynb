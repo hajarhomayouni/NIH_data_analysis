{
 "cells": [
  {
   "cell_type": "code",
   "execution_count": 2,
   "metadata": {
    "collapsed": true
   },
   "outputs": [],
   "source": [
    "import pandas as pd\n",
    "import re\n",
    "from sklearn.feature_extraction.text import CountVectorizer\n",
    "from sklearn.decomposition import LatentDirichletAllocation as LDA\n",
    "from nltk.corpus import stopwords\n",
    "import pyLDAvis.sklearn\n",
    "import tqdm"
   ]
  },
  {
   "cell_type": "code",
   "execution_count": 3,
   "metadata": {},
   "outputs": [],
   "source": [
    "# read the csv file and extract the title column as a Dask DataFrame\n",
    "df = pd.read_csv(\"Heart_disease.csv\")\n",
    "titles = df['Title']\n",
    "# make into a list\n",
    "titles = titles.tolist()"
   ]
  },
  {
   "cell_type": "code",
   "execution_count": 4,
   "metadata": {},
   "outputs": [],
   "source": [
    "# define a function to preprocess the titles\n",
    "def preprocess(title):\n",
    "    # remove any non-alphabetical characters\n",
    "    title = re.sub('[^a-zA-Z]', ' ', title)\n",
    "    # convert all characters to lowercase\n",
    "    title = title.lower()\n",
    "    # remove stopwords\n",
    "    title = ' '.join([word for word in title.split() if word not in stopwords.words('english')])\n",
    "    # replace multiple spaces with a single space\n",
    "    title = re.sub(' +', ' ', title)\n",
    "    return title"
   ]
  },
  {
   "cell_type": "code",
   "execution_count": 5,
   "metadata": {},
   "outputs": [
    {
     "name": "stderr",
     "output_type": "stream",
     "text": [
      "100%|██████████| 86904/86904 [02:15<00:00, 640.91it/s]\n"
     ]
    }
   ],
   "source": [
    "# preprocess the titles\n",
    "processed_titles = [preprocess(title) for title in tqdm.tqdm(titles)]"
   ]
  },
  {
   "cell_type": "code",
   "execution_count": 6,
   "metadata": {},
   "outputs": [],
   "source": [
    "# create a CountVectorizer object\n",
    "vectorizer = CountVectorizer(max_df=0.95, min_df=2, max_features=1000, stop_words='english')\n",
    "matrix = vectorizer.fit_transform(processed_titles)"
   ]
  },
  {
   "cell_type": "code",
   "execution_count": 18,
   "metadata": {},
   "outputs": [
    {
     "data": {
      "text/plain": "LatentDirichletAllocation(max_iter=15, n_components=16, random_state=42)",
      "text/html": "<style>#sk-container-id-2 {color: black;background-color: white;}#sk-container-id-2 pre{padding: 0;}#sk-container-id-2 div.sk-toggleable {background-color: white;}#sk-container-id-2 label.sk-toggleable__label {cursor: pointer;display: block;width: 100%;margin-bottom: 0;padding: 0.3em;box-sizing: border-box;text-align: center;}#sk-container-id-2 label.sk-toggleable__label-arrow:before {content: \"▸\";float: left;margin-right: 0.25em;color: #696969;}#sk-container-id-2 label.sk-toggleable__label-arrow:hover:before {color: black;}#sk-container-id-2 div.sk-estimator:hover label.sk-toggleable__label-arrow:before {color: black;}#sk-container-id-2 div.sk-toggleable__content {max-height: 0;max-width: 0;overflow: hidden;text-align: left;background-color: #f0f8ff;}#sk-container-id-2 div.sk-toggleable__content pre {margin: 0.2em;color: black;border-radius: 0.25em;background-color: #f0f8ff;}#sk-container-id-2 input.sk-toggleable__control:checked~div.sk-toggleable__content {max-height: 200px;max-width: 100%;overflow: auto;}#sk-container-id-2 input.sk-toggleable__control:checked~label.sk-toggleable__label-arrow:before {content: \"▾\";}#sk-container-id-2 div.sk-estimator input.sk-toggleable__control:checked~label.sk-toggleable__label {background-color: #d4ebff;}#sk-container-id-2 div.sk-label input.sk-toggleable__control:checked~label.sk-toggleable__label {background-color: #d4ebff;}#sk-container-id-2 input.sk-hidden--visually {border: 0;clip: rect(1px 1px 1px 1px);clip: rect(1px, 1px, 1px, 1px);height: 1px;margin: -1px;overflow: hidden;padding: 0;position: absolute;width: 1px;}#sk-container-id-2 div.sk-estimator {font-family: monospace;background-color: #f0f8ff;border: 1px dotted black;border-radius: 0.25em;box-sizing: border-box;margin-bottom: 0.5em;}#sk-container-id-2 div.sk-estimator:hover {background-color: #d4ebff;}#sk-container-id-2 div.sk-parallel-item::after {content: \"\";width: 100%;border-bottom: 1px solid gray;flex-grow: 1;}#sk-container-id-2 div.sk-label:hover label.sk-toggleable__label {background-color: #d4ebff;}#sk-container-id-2 div.sk-serial::before {content: \"\";position: absolute;border-left: 1px solid gray;box-sizing: border-box;top: 0;bottom: 0;left: 50%;z-index: 0;}#sk-container-id-2 div.sk-serial {display: flex;flex-direction: column;align-items: center;background-color: white;padding-right: 0.2em;padding-left: 0.2em;position: relative;}#sk-container-id-2 div.sk-item {position: relative;z-index: 1;}#sk-container-id-2 div.sk-parallel {display: flex;align-items: stretch;justify-content: center;background-color: white;position: relative;}#sk-container-id-2 div.sk-item::before, #sk-container-id-2 div.sk-parallel-item::before {content: \"\";position: absolute;border-left: 1px solid gray;box-sizing: border-box;top: 0;bottom: 0;left: 50%;z-index: -1;}#sk-container-id-2 div.sk-parallel-item {display: flex;flex-direction: column;z-index: 1;position: relative;background-color: white;}#sk-container-id-2 div.sk-parallel-item:first-child::after {align-self: flex-end;width: 50%;}#sk-container-id-2 div.sk-parallel-item:last-child::after {align-self: flex-start;width: 50%;}#sk-container-id-2 div.sk-parallel-item:only-child::after {width: 0;}#sk-container-id-2 div.sk-dashed-wrapped {border: 1px dashed gray;margin: 0 0.4em 0.5em 0.4em;box-sizing: border-box;padding-bottom: 0.4em;background-color: white;}#sk-container-id-2 div.sk-label label {font-family: monospace;font-weight: bold;display: inline-block;line-height: 1.2em;}#sk-container-id-2 div.sk-label-container {text-align: center;}#sk-container-id-2 div.sk-container {/* jupyter's `normalize.less` sets `[hidden] { display: none; }` but bootstrap.min.css set `[hidden] { display: none !important; }` so we also need the `!important` here to be able to override the default hidden behavior on the sphinx rendered scikit-learn.org. See: https://github.com/scikit-learn/scikit-learn/issues/21755 */display: inline-block !important;position: relative;}#sk-container-id-2 div.sk-text-repr-fallback {display: none;}</style><div id=\"sk-container-id-2\" class=\"sk-top-container\"><div class=\"sk-text-repr-fallback\"><pre>LatentDirichletAllocation(max_iter=15, n_components=16, random_state=42)</pre><b>In a Jupyter environment, please rerun this cell to show the HTML representation or trust the notebook. <br />On GitHub, the HTML representation is unable to render, please try loading this page with nbviewer.org.</b></div><div class=\"sk-container\" hidden><div class=\"sk-item\"><div class=\"sk-estimator sk-toggleable\"><input class=\"sk-toggleable__control sk-hidden--visually\" id=\"sk-estimator-id-2\" type=\"checkbox\" checked><label for=\"sk-estimator-id-2\" class=\"sk-toggleable__label sk-toggleable__label-arrow\">LatentDirichletAllocation</label><div class=\"sk-toggleable__content\"><pre>LatentDirichletAllocation(max_iter=15, n_components=16, random_state=42)</pre></div></div></div></div></div>"
     },
     "execution_count": 18,
     "metadata": {},
     "output_type": "execute_result"
    }
   ],
   "source": [
    "lda = LDA(n_components=16, max_iter=15, learning_method='batch', random_state=42)\n",
    "lda.fit(matrix)"
   ]
  },
  {
   "cell_type": "code",
   "execution_count": 8,
   "metadata": {},
   "outputs": [
    {
     "name": "stdout",
     "output_type": "stream",
     "text": [
      "Top 5 words in Topic #0:\n",
      "['ii', 'lung', 'angiotensin', 'ca', 'role']\n",
      "\n",
      "Top 5 words in Topic #1:\n",
      "['carotid', 'association', 'study', 'adults', 'stress']\n",
      "\n",
      "Top 5 words in Topic #2:\n",
      "['disease', 'atherosclerosis', 'cardiovascular', 'risk', 'study']\n",
      "\n",
      "Top 5 words in Topic #3:\n",
      "['renal', 'novel', 'arterial', 'hypertension', 'pulmonary']\n",
      "\n",
      "Top 5 words in Topic #4:\n",
      "['acute', 'infarction', 'left', 'ventricular', 'myocardial']\n",
      "\n",
      "Top 5 words in Topic #5:\n",
      "['therapy', 'vivo', 'women', 'nitric', 'oxide']\n",
      "\n",
      "Top 5 words in Topic #6:\n",
      "['development', 'tissue', 'response', 'activation', 'cardiac']\n",
      "\n",
      "Top 5 words in Topic #7:\n",
      "['remodeling', 'cell', 'vascular', 'receptor', 'endothelial']\n",
      "\n",
      "Top 5 words in Topic #8:\n",
      "['kinase', 'dependent', 'factor', 'blood', 'protein']\n",
      "\n",
      "Top 5 words in Topic #9:\n",
      "['low', 'high', 'increased', 'rats', 'associated']\n",
      "\n",
      "Top 5 words in Topic #10:\n",
      "['ischemia', 'cells', 'smooth', 'effects', 'muscle']\n",
      "\n",
      "Top 5 words in Topic #11:\n",
      "['specific', 'rat', 'human', 'model', 'cells']\n",
      "\n",
      "Top 5 words in Topic #12:\n",
      "['patients', 'responses', 'aortic', 'failure', 'heart']\n",
      "\n",
      "Top 5 words in Topic #13:\n",
      "['treatment', 'cardiac', 'imaging', 'using', 'regulation']\n",
      "\n",
      "Top 5 words in Topic #14:\n",
      "['mice', 'function', 'type', 'expression', 'gene']\n",
      "\n",
      "Top 5 words in Topic #15:\n",
      "['chronic', 'heart', 'disease', 'artery', 'coronary']\n",
      "\n"
     ]
    }
   ],
   "source": [
    "for idx, topic in enumerate(lda.components_):\n",
    "    print(f\"Top 5 words in Topic #{idx}:\")\n",
    "    print([vectorizer.get_feature_names_out()[i] for i in topic.argsort()[-5:]])\n",
    "    print('')"
   ]
  },
  {
   "cell_type": "code",
   "execution_count": 19,
   "outputs": [
    {
     "name": "stdout",
     "output_type": "stream",
     "text": [
      "Top 5 words in Topic #0:\n",
      "['matrix', 'resonance', 'magnetic', 'cardiomyopathy', 'cardiac']\n",
      "\n",
      "Top 5 words in Topic #1:\n",
      "['gene', 'receptor', 'expression', 'cardiac', 'protein']\n",
      "\n",
      "Top 5 words in Topic #2:\n",
      "['study', 'diabetes', 'disease', 'risk', 'cardiovascular']\n",
      "\n",
      "Top 5 words in Topic #3:\n",
      "['aortic', 'imaging', 'using', 'left', 'ventricular']\n",
      "\n",
      "Top 5 words in Topic #4:\n",
      "['multi', 'association', 'genetic', 'study', 'atherosclerosis']\n",
      "\n",
      "Top 5 words in Topic #5:\n",
      "['tissue', 'stem', 'human', 'cells', 'cell']\n",
      "\n",
      "Top 5 words in Topic #6:\n",
      "['ii', 'induced', 'angiotensin', 'stress', 'mice']\n",
      "\n",
      "Top 5 words in Topic #7:\n",
      "['arteries', 'artery', 'arterial', 'hypertension', 'pulmonary']\n",
      "\n",
      "Top 5 words in Topic #8:\n",
      "['ischemic', 'myocardial', 'lung', 'ischemia', 'injury']\n",
      "\n",
      "Top 5 words in Topic #9:\n",
      "['nitric', 'oxide', 'growth', 'factor', 'endothelial']\n",
      "\n",
      "Top 5 words in Topic #10:\n",
      "['patients', 'coronary', 'disease', 'failure', 'heart']\n",
      "\n",
      "Top 5 words in Topic #11:\n",
      "['rat', 'mouse', 'ca', 'model', 'effects']\n",
      "\n",
      "Top 5 words in Topic #12:\n",
      "['acute', 'infarction', 'trial', 'myocardial', 'patients']\n",
      "\n",
      "Top 5 words in Topic #13:\n",
      "['lipoprotein', 'low', 'high', 'blood', 'pressure']\n",
      "\n",
      "Top 5 words in Topic #14:\n",
      "['signaling', 'cells', 'smooth', 'vascular', 'muscle']\n",
      "\n",
      "Top 5 words in Topic #15:\n",
      "['health', 'sub', 'based', 'heart', 'study']\n",
      "\n"
     ]
    }
   ],
   "source": [
    "for idx, topic in enumerate(lda.components_):\n",
    "    print(f\"Top 5 words in Topic #{idx}:\")\n",
    "    print([vectorizer.get_feature_names_out()[i] for i in topic.argsort()[-5:]])\n",
    "    print('')"
   ],
   "metadata": {
    "collapsed": false
   }
  },
  {
   "cell_type": "code",
   "execution_count": 20,
   "outputs": [
    {
     "name": "stderr",
     "output_type": "stream",
     "text": [
      "C:\\Users\\mud_o\\AppData\\Local\\Temp\\ipykernel_32300\\1791344078.py:8: SettingWithCopyWarning: \n",
      "A value is trying to be set on a copy of a slice from a DataFrame\n",
      "\n",
      "See the caveats in the documentation: https://pandas.pydata.org/pandas-docs/stable/user_guide/indexing.html#returning-a-view-versus-a-copy\n",
      "  table['topic'][i] = vectorizer.get_feature_names_out()[lda.components_[table['topic'][i]].argmax()]\n"
     ]
    }
   ],
   "source": [
    "# create a table with each document and its top word (i.e. the topic with the highest probability\n",
    "table = pd.DataFrame()\n",
    "table['title'] = titles\n",
    "table['topic'] = lda.transform(matrix).argmax(axis=1)\n",
    "# go through the topic list and replace the topic number with the top word in that topic\n",
    "for i in range(len(table['topic'])):\n",
    "    table['topic'][i] = vectorizer.get_feature_names_out()[lda.components_[table['topic'][i]].argmax()]\n",
    "\n",
    "\n",
    "\n",
    "\n",
    "\n",
    "\n"
   ],
   "metadata": {
    "collapsed": false
   }
  },
  {
   "cell_type": "code",
   "execution_count": null,
   "outputs": [],
   "source": [],
   "metadata": {
    "collapsed": false
   }
  }
 ],
 "metadata": {
  "kernelspec": {
   "display_name": "Python 3 (ipykernel)",
   "language": "python",
   "name": "python3"
  },
  "language_info": {
   "codemirror_mode": {
    "name": "ipython",
    "version": 3
   },
   "file_extension": ".py",
   "mimetype": "text/x-python",
   "name": "python",
   "nbconvert_exporter": "python",
   "pygments_lexer": "ipython3",
   "version": "3.10.9"
  }
 },
 "nbformat": 4,
 "nbformat_minor": 1
}
