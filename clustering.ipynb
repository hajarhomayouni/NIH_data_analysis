{
 "cells": [
  {
   "cell_type": "code",
   "execution_count": 1,
   "metadata": {
    "collapsed": true
   },
   "outputs": [],
   "source": [
    "import numpy as np\n",
    "import pandas as pd\n",
    "import re\n",
    "import nltk\n",
    "from nltk.corpus import stopwords\n",
    "from nltk.stem import PorterStemmer\n",
    "from transformers import BertTokenizer, TFBertModel\n",
    "import tensorflow as tf\n",
    "from sklearn.feature_extraction.text import TfidfVectorizer\n",
    "from sklearn.cluster import KMeans\n",
    "import numpy as np\n",
    "import matplotlib.pyplot as plt\n",
    "from tqdm import tqdm\n",
    "import requests\n",
    "from bs4 import BeautifulSoup\n",
    "from pymedtermino import *\n",
    "from pymedtermino.all import *"
   ]
  },
  {
   "cell_type": "code",
   "execution_count": 2,
   "outputs": [
    {
     "name": "stderr",
     "output_type": "stream",
     "text": [
      "  0%|          | 0/86904 [00:00<?, ?it/s]C:\\Users\\mud_o\\AppData\\Local\\Temp\\ipykernel_6768\\495113194.py:15: SettingWithCopyWarning: \n",
      "A value is trying to be set on a copy of a slice from a DataFrame\n",
      "\n",
      "See the caveats in the documentation: https://pandas.pydata.org/pandas-docs/stable/user_guide/indexing.html#returning-a-view-versus-a-copy\n",
      "  titles[index] = title\n",
      "100%|██████████| 86904/86904 [02:26<00:00, 591.22it/s]\n"
     ]
    }
   ],
   "source": [
    "# read the csv file and extract the title column\n",
    "df = pd.read_csv(\"Heart_disease.csv\")\n",
    "titles = df['Title']\n",
    "regex = re.compile('[^a-zA-Z]')\n",
    "for index, title in enumerate(tqdm(titles)):\n",
    "    # remove any non-alphabetical characters\n",
    "    # title = regex.sub(' ', title)\n",
    "    # convert all characters to lowercase\n",
    "    title = title.lower()\n",
    "    # remove stopwords\n",
    "    title = ' '.join([word for word in title.split() if word not in stopwords.words('english')])\n",
    "    # replace multiple spaces with a single space\n",
    "    title = re.sub(' +', ' ', title)\n",
    "    # add to the list\n",
    "    titles[index] = title\n",
    "data = list(titles)"
   ],
   "metadata": {
    "collapsed": false
   }
  },
  {
   "cell_type": "code",
   "execution_count": 3,
   "outputs": [],
   "source": [
    "# Create a TfidfVectorizer object to transform the article titles into a feature matrix\n",
    "vectorizer = TfidfVectorizer(stop_words='english', ngram_range=(1, 2))\n",
    "X = vectorizer.fit_transform(data)"
   ],
   "metadata": {
    "collapsed": false
   }
  },
  {
   "cell_type": "code",
   "execution_count": 4,
   "outputs": [
    {
     "name": "stderr",
     "output_type": "stream",
     "text": [
      "C:\\Users\\mud_o\\anaconda3\\envs\\cashi\\lib\\site-packages\\sklearn\\cluster\\_kmeans.py:870: FutureWarning: The default value of `n_init` will change from 10 to 'auto' in 1.4. Set the value of `n_init` explicitly to suppress the warning\n",
      "  warnings.warn(\n",
      "100%|██████████| 16/16 [00:00<00:00, 31941.39it/s]"
     ]
    },
    {
     "name": "stdout",
     "output_type": "stream",
     "text": [
      "Cluster 0 top terms:\n",
      "    cardiac\n",
      "    cardiac arrest\n",
      "    arrest\n",
      "    hypertrophy\n",
      "    cardiac myocytes\n",
      "\n",
      "Cluster 1 top terms:\n",
      "    nitric\n",
      "    nitric oxide\n",
      "    oxide\n",
      "    oxide synthase\n",
      "    synthase\n",
      "\n",
      "Cluster 2 top terms:\n",
      "    atrial\n",
      "    atrial fibrillation\n",
      "    fibrillation\n",
      "    patients\n",
      "    patients atrial\n",
      "\n",
      "Cluster 3 top terms:\n",
      "    heart\n",
      "    induced\n",
      "    mice\n",
      "    receptor\n",
      "    vascular\n",
      "\n",
      "Cluster 4 top terms:\n",
      "    endothelial\n",
      "    endothelial cells\n",
      "    cells\n",
      "    endothelial cell\n",
      "    cell\n",
      "\n",
      "Cluster 5 top terms:\n",
      "    heart failure\n",
      "    failure\n",
      "    heart\n",
      "    patients\n",
      "    ejection\n",
      "\n",
      "Cluster 6 top terms:\n",
      "    coronary\n",
      "    disease\n",
      "    coronary artery\n",
      "    artery\n",
      "    heart disease\n",
      "\n",
      "Cluster 7 top terms:\n",
      "    blood pressure\n",
      "    pressure\n",
      "    blood\n",
      "    heart study\n",
      "    study\n",
      "\n",
      "Cluster 8 top terms:\n",
      "    cardiovascular\n",
      "    cardiovascular disease\n",
      "    risk\n",
      "    disease\n",
      "    study\n",
      "\n",
      "Cluster 9 top terms:\n",
      "    myocardial infarction\n",
      "    infarction\n",
      "    myocardial\n",
      "    acute myocardial\n",
      "    acute\n",
      "\n",
      "Cluster 10 top terms:\n",
      "    associated\n",
      "    qt\n",
      "    syndrome\n",
      "    long qt\n",
      "    qt syndrome\n",
      "\n",
      "Cluster 11 top terms:\n",
      "    atherosclerosis\n",
      "    study\n",
      "    study atherosclerosis\n",
      "    ethnic\n",
      "    multi ethnic\n",
      "\n",
      "Cluster 12 top terms:\n",
      "    aortic\n",
      "    valve\n",
      "    aortic valve\n",
      "    mitral\n",
      "    ventricular assist\n",
      "\n",
      "Cluster 13 top terms:\n",
      "    smooth\n",
      "    smooth muscle\n",
      "    muscle\n",
      "    vascular smooth\n",
      "    muscle cells\n",
      "\n",
      "Cluster 14 top terms:\n",
      "    stem\n",
      "    stem cells\n",
      "    stem cell\n",
      "    cells\n",
      "    cell\n",
      "\n",
      "Cluster 15 top terms:\n",
      "    pulmonary\n",
      "    hypertension\n",
      "    pulmonary hypertension\n",
      "    pulmonary arterial\n",
      "    arterial hypertension\n",
      "\n"
     ]
    },
    {
     "name": "stderr",
     "output_type": "stream",
     "text": [
      "\n"
     ]
    }
   ],
   "source": [
    "# Use KMeans clustering to group the article titles into clusters\n",
    "kmeans = KMeans(n_clusters=16, random_state=0).fit(X)\n",
    "\n",
    "\n",
    "\n",
    "# Print the top terms for each cluster\n",
    "order_centroids = kmeans.cluster_centers_.argsort()[:, ::-1]\n",
    "terms = vectorizer.get_feature_names_out()\n",
    "for i in tqdm(range(kmeans.n_clusters)):\n",
    "    print(f\"Cluster {i} top terms:\")\n",
    "    for j in order_centroids[i, :5]:\n",
    "        print(f\"    {terms[j]}\")\n",
    "    print()"
   ],
   "metadata": {
    "collapsed": false
   }
  },
  {
   "cell_type": "code",
   "execution_count": 8,
   "outputs": [
    {
     "name": "stderr",
     "output_type": "stream",
     "text": [
      "100%|██████████| 86904/86904 [00:00<00:00, 2118395.92it/s]\n"
     ]
    }
   ],
   "source": [
    "# Print the cluster assignments for each article title\n",
    "pairings = {}\n",
    "for i in tqdm(range(len(data))):\n",
    "    label = kmeans.labels_[i]\n",
    "    topic = terms[order_centroids[label, 0]]\n",
    "    pairings[data[i]] = topic\n",
    "df['Topic'] = df['Title'].map(pairings)"
   ],
   "metadata": {
    "collapsed": false
   }
  },
  {
   "cell_type": "code",
   "execution_count": 9,
   "outputs": [],
   "source": [
    "# save the dataframe to a csv file\n",
    "df.to_csv('Heart_disease_with_topics.csv', index=False)"
   ],
   "metadata": {
    "collapsed": false
   }
  },
  {
   "cell_type": "code",
   "execution_count": null,
   "outputs": [],
   "source": [],
   "metadata": {
    "collapsed": false
   }
  }
 ],
 "metadata": {
  "kernelspec": {
   "display_name": "Python 3",
   "language": "python",
   "name": "python3"
  },
  "language_info": {
   "codemirror_mode": {
    "name": "ipython",
    "version": 2
   },
   "file_extension": ".py",
   "mimetype": "text/x-python",
   "name": "python",
   "nbconvert_exporter": "python",
   "pygments_lexer": "ipython2",
   "version": "2.7.6"
  }
 },
 "nbformat": 4,
 "nbformat_minor": 0
}
