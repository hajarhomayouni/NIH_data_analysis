{
 "cells": [
  {
   "cell_type": "code",
   "execution_count": 1,
   "metadata": {
    "collapsed": true
   },
   "outputs": [],
   "source": [
    "from top2vec import Top2Vec\n",
    "import pandas as pd"
   ]
  },
  {
   "cell_type": "code",
   "execution_count": 2,
   "outputs": [],
   "source": [
    "df = pd.read_csv(\"Heart_disease.csv\")\n",
    "titles = df['Title']\n",
    "titles = titles.tolist()"
   ],
   "metadata": {
    "collapsed": false
   }
  },
  {
   "cell_type": "code",
   "execution_count": 3,
   "outputs": [
    {
     "name": "stderr",
     "output_type": "stream",
     "text": [
      "2023-02-07 15:13:53,544 - top2vec - INFO - Pre-processing documents for training\n",
      "C:\\Users\\mud_o\\anaconda3\\envs\\cashi\\lib\\site-packages\\sklearn\\feature_extraction\\text.py:528: UserWarning: The parameter 'token_pattern' will not be used since 'tokenizer' is not None'\n",
      "  warnings.warn(\n",
      "2023-02-07 15:13:57,105 - top2vec - INFO - Downloading universal-sentence-encoder model\n",
      "2023-02-07 15:14:38,819 - top2vec - INFO - Creating joint document/word embedding\n",
      "INFO:top2vec:Creating joint document/word embedding\n",
      "2023-02-07 15:14:50,970 - top2vec - INFO - Creating lower dimension embedding of documents\n",
      "INFO:top2vec:Creating lower dimension embedding of documents\n",
      "2023-02-07 15:15:46,949 - top2vec - INFO - Finding dense areas of documents\n",
      "INFO:top2vec:Finding dense areas of documents\n",
      "2023-02-07 15:15:51,740 - top2vec - INFO - Finding topics\n",
      "INFO:top2vec:Finding topics\n"
     ]
    }
   ],
   "source": [
    "model = Top2Vec(titles, speed=\"fast-learn\", embedding_model='universal-sentence-encoder')"
   ],
   "metadata": {
    "collapsed": false
   }
  },
  {
   "cell_type": "code",
   "execution_count": 4,
   "outputs": [
    {
     "name": "stdout",
     "output_type": "stream",
     "text": [
      "256\n",
      "[['mice' 'mouse' 'rodent' ... 'statin' 'stenosis' 'allele']\n",
      " ['rats' 'rat' 'bradycardia' ... 'infarction' 'phospholipids' 'infarct']\n",
      " ['cardiac' 'tachycardia' 'myocardial' ... 'atrium' 'diastolic'\n",
      "  'parasympathetic']\n",
      " ...\n",
      " ['bradycardia' 'tachycardia' 'fibrillation' ... 'hypertrophic'\n",
      "  'orthostatic' 'stent']\n",
      " ['aneurysm' 'menopausal' 'myocardial' ... 'cardiomyopathy' 'brain'\n",
      "  'symptomatic']\n",
      " ['lesions' 'resveratrol' 'idiopathic' ... 'acetylcholine' 'hypotension'\n",
      "  'interferon']]\n"
     ]
    }
   ],
   "source": [
    "topic_num = model.get_num_topics()\n",
    "topic_words, word_scores, topic_nums = model.get_topics(topic_num)\n",
    "print(topic_num)\n",
    "print(topic_words)"
   ],
   "metadata": {
    "collapsed": false
   }
  },
  {
   "cell_type": "code",
   "execution_count": 5,
   "outputs": [],
   "source": [
    "model.save(\"trained2\")"
   ],
   "metadata": {
    "collapsed": false
   }
  }
 ],
 "metadata": {
  "kernelspec": {
   "display_name": "Python 3",
   "language": "python",
   "name": "python3"
  },
  "language_info": {
   "codemirror_mode": {
    "name": "ipython",
    "version": 2
   },
   "file_extension": ".py",
   "mimetype": "text/x-python",
   "name": "python",
   "nbconvert_exporter": "python",
   "pygments_lexer": "ipython2",
   "version": "2.7.6"
  }
 },
 "nbformat": 4,
 "nbformat_minor": 0
}
